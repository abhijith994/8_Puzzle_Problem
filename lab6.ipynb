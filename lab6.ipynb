{
  "nbformat": 4,
  "nbformat_minor": 0,
  "metadata": {
    "colab": {
      "name": "Untitled14.ipynb",
      "provenance": [],
      "authorship_tag": "ABX9TyNRlCCkPwDrbUEt558797H+",
      "include_colab_link": true
    },
    "kernelspec": {
      "name": "python3",
      "display_name": "Python 3"
    }
  },
  "cells": [
    {
      "cell_type": "markdown",
      "metadata": {
        "id": "view-in-github",
        "colab_type": "text"
      },
      "source": [
        "<a href=\"https://colab.research.google.com/github/abhijith994/8_Puzzle_Problem/blob/master/lab6.ipynb\" target=\"_parent\"><img src=\"https://colab.research.google.com/assets/colab-badge.svg\" alt=\"Open In Colab\"/></a>"
      ]
    },
    {
      "cell_type": "markdown",
      "metadata": {
        "id": "mAG_tNSJ0RB_"
      },
      "source": [
        "Implement  4-queens problem using Breadth First Search and Depth First Search"
      ]
    },
    {
      "cell_type": "code",
      "metadata": {
        "colab": {
          "base_uri": "https://localhost:8080/",
          "height": 0
        },
        "id": "bxRMjZwC0Vg5",
        "outputId": "d3fd2773-677a-4c5a-b7a0-ac21f1729cdf"
      },
      "source": [
        "from queue import Queue\r\n",
        "#defining function for solving 4 queens using BFS algorithm\r\n",
        "def BFS():\r\n",
        "        if size < 1:\r\n",
        "            return []\r\n",
        "        solutions = []\r\n",
        "        queue = Queue()\r\n",
        "        queue.put([])\r\n",
        "        while not queue.empty():\r\n",
        "            solution = queue.get()\r\n",
        "            if conflict(solution):\r\n",
        "                continue\r\n",
        "            row = len(solution)\r\n",
        "            if row == size:\r\n",
        "                solutions.append(solution)\r\n",
        "                continue\r\n",
        "            for col in range(size):\r\n",
        "                queen = (row, col)\r\n",
        "                queens = solution.copy()\r\n",
        "                queens.append(queen)\r\n",
        "                queue.put(queens)\r\n",
        "        return solutions \r\n",
        "#defining function for solving 4 queens using DFS algorithm  \r\n",
        "def DFS():\r\n",
        "        if size < 1:\r\n",
        "            return []\r\n",
        "        solutions = []\r\n",
        "        stack = [[]]\r\n",
        "        while stack:\r\n",
        "            solution = stack.pop()\r\n",
        "            if conflict(solution):\r\n",
        "                continue\r\n",
        "            row = len(solution)\r\n",
        "            if row == size:\r\n",
        "                solutions.append(solution)\r\n",
        "                continue\r\n",
        "            for col in range(size):\r\n",
        "                queen = (row, col)\r\n",
        "                queens = solution.copy()\r\n",
        "                queens.append(queen)\r\n",
        "                stack.append(queens)\r\n",
        "        return solutions\r\n",
        "#defining the function for conflicting\r\n",
        "def conflict(queens):\r\n",
        "        for i in range(1, len(queens)):\r\n",
        "            for j in range(0, i):\r\n",
        "                a, b = queens[i]\r\n",
        "                c, d = queens[j]\r\n",
        "                if a == c or b == d or abs(a - c) == abs(b - d):\r\n",
        "                    return True\r\n",
        "        return False\r\n",
        "# defining the function for printing solution \r\n",
        "def display(queens):\r\n",
        "        for i in range(size):\r\n",
        "            print(' ---' * size)\r\n",
        "            for j in range(size):\r\n",
        "                p = 'Q' if (i, j) in queens else ' '\r\n",
        "                print(' %s ' % p, end='')\r\n",
        "            print(' ')\r\n",
        "        print(' ---' * size)    \r\n",
        "size = 4 #Intializing size for 4 queensP problem\r\n",
        "bfs_solutions = BFS()#Calling BFS solution\r\n",
        "dfs_solutions = DFS() #Calling DFS solution\r\n",
        "print(\"BFS Solution : \")\r\n",
        "for i, solution in enumerate(bfs_solutions):\r\n",
        "    print('Solution %d:' % (i + 1))\r\n",
        "    display(solution)\r\n",
        "\r\n",
        "print(\"DFS Solution :\")\r\n",
        "#Calling display fuction display output\r\n",
        "for i,solution in enumerate(dfs_solutions):\r\n",
        "    print('Solution %d:' % (i + 1))\r\n",
        "    display(solution)\r\n",
        "\r\n",
        "\r\n",
        "\r\n",
        "\r\n"
      ],
      "execution_count": 3,
      "outputs": [
        {
          "output_type": "stream",
          "text": [
            "BFS Solution : \n",
            "Solution 1:\n",
            " --- --- --- ---\n",
            "    Q        \n",
            " --- --- --- ---\n",
            "          Q  \n",
            " --- --- --- ---\n",
            " Q           \n",
            " --- --- --- ---\n",
            "       Q     \n",
            " --- --- --- ---\n",
            "Solution 2:\n",
            " --- --- --- ---\n",
            "       Q     \n",
            " --- --- --- ---\n",
            " Q           \n",
            " --- --- --- ---\n",
            "          Q  \n",
            " --- --- --- ---\n",
            "    Q        \n",
            " --- --- --- ---\n",
            "DFS Solution :\n",
            "Solution 1:\n",
            " --- --- --- ---\n",
            "       Q     \n",
            " --- --- --- ---\n",
            " Q           \n",
            " --- --- --- ---\n",
            "          Q  \n",
            " --- --- --- ---\n",
            "    Q        \n",
            " --- --- --- ---\n",
            "Solution 2:\n",
            " --- --- --- ---\n",
            "    Q        \n",
            " --- --- --- ---\n",
            "          Q  \n",
            " --- --- --- ---\n",
            " Q           \n",
            " --- --- --- ---\n",
            "       Q     \n",
            " --- --- --- ---\n"
          ],
          "name": "stdout"
        }
      ]
    }
  ]
}